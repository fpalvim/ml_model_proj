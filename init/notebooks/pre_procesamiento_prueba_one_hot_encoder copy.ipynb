{
 "cells": [
  {
   "cell_type": "code",
   "execution_count": 32,
   "metadata": {},
   "outputs": [],
   "source": [
    "import pandas as pd\n",
    "import numpy as np\n",
    "import matplotlib.pyplot as plt\n",
    "import seaborn as sns\n",
    "import os\n",
    "import sys\n",
    "from pathlib import Path\n",
    "\n",
    "from sklearn.preprocessing import  OneHotEncoder, MinMaxScaler, LabelEncoder\n",
    "from sklearn.compose import ColumnTransformer\n",
    "\n",
    "from sklearn.decomposition import PCA\n",
    "\n",
    "from sklearn.model_selection import train_test_split, KFold, cross_val_score\n",
    "\n",
    "from sklearn.svm import SVC\n",
    "\n",
    "from sklearn.metrics import accuracy_score, confusion_matrix, classification_report\n",
    "\n",
    "from sklearn.linear_model import LogisticRegression\n",
    "from sklearn.neighbors import KNeighborsClassifier\n",
    "from sklearn.tree import DecisionTreeClassifier\n",
    "from sklearn.ensemble import RandomForestClassifier\n",
    "from xgboost import XGBClassifier\n"
   ]
  },
  {
   "cell_type": "code",
   "execution_count": 33,
   "metadata": {},
   "outputs": [],
   "source": [
    "root_path = Path(os.getcwd()).resolve().parent"
   ]
  },
  {
   "cell_type": "code",
   "execution_count": 34,
   "metadata": {},
   "outputs": [],
   "source": [
    "sys.path.append(str(root_path))"
   ]
  },
  {
   "cell_type": "code",
   "execution_count": 35,
   "metadata": {},
   "outputs": [],
   "source": [
    "pd.set_option('display.max_columns',500)"
   ]
  },
  {
   "cell_type": "code",
   "execution_count": 36,
   "metadata": {},
   "outputs": [],
   "source": [
    "df = pd.read_csv(\"../data/processed/heart_attack_prediction_dataset1_processed.csv\")"
   ]
  },
  {
   "cell_type": "code",
   "execution_count": 37,
   "metadata": {},
   "outputs": [],
   "source": [
    "data = df.copy()"
   ]
  },
  {
   "cell_type": "code",
   "execution_count": 38,
   "metadata": {},
   "outputs": [
    {
     "data": {
      "text/html": [
       "<div>\n",
       "<style scoped>\n",
       "    .dataframe tbody tr th:only-of-type {\n",
       "        vertical-align: middle;\n",
       "    }\n",
       "\n",
       "    .dataframe tbody tr th {\n",
       "        vertical-align: top;\n",
       "    }\n",
       "\n",
       "    .dataframe thead th {\n",
       "        text-align: right;\n",
       "    }\n",
       "</style>\n",
       "<table border=\"1\" class=\"dataframe\">\n",
       "  <thead>\n",
       "    <tr style=\"text-align: right;\">\n",
       "      <th></th>\n",
       "      <th>Edad</th>\n",
       "      <th>Sexo</th>\n",
       "      <th>TipoDolorTorax</th>\n",
       "      <th>PresionArterialReposo</th>\n",
       "      <th>Colesterol</th>\n",
       "      <th>GlucosaEnAyunas</th>\n",
       "      <th>ECGReposo</th>\n",
       "      <th>FreqCardiacaMaxima</th>\n",
       "      <th>AnginaDeEsfuerzo</th>\n",
       "      <th>DescensoST</th>\n",
       "      <th>PendienteST</th>\n",
       "      <th>EnfermedadCardiaca</th>\n",
       "    </tr>\n",
       "  </thead>\n",
       "  <tbody>\n",
       "    <tr>\n",
       "      <th>0</th>\n",
       "      <td>59</td>\n",
       "      <td>M</td>\n",
       "      <td>ASY</td>\n",
       "      <td>156</td>\n",
       "      <td>96.0</td>\n",
       "      <td>0</td>\n",
       "      <td>LVH</td>\n",
       "      <td>177</td>\n",
       "      <td>Y</td>\n",
       "      <td>1.6</td>\n",
       "      <td>Flat</td>\n",
       "      <td>1</td>\n",
       "    </tr>\n",
       "    <tr>\n",
       "      <th>1</th>\n",
       "      <td>57</td>\n",
       "      <td>M</td>\n",
       "      <td>ASY</td>\n",
       "      <td>135</td>\n",
       "      <td>413.0</td>\n",
       "      <td>0</td>\n",
       "      <td>Normal</td>\n",
       "      <td>125</td>\n",
       "      <td>Y</td>\n",
       "      <td>-0.1</td>\n",
       "      <td>Up</td>\n",
       "      <td>1</td>\n",
       "    </tr>\n",
       "    <tr>\n",
       "      <th>2</th>\n",
       "      <td>58</td>\n",
       "      <td>M</td>\n",
       "      <td>ATA</td>\n",
       "      <td>130</td>\n",
       "      <td>410.0</td>\n",
       "      <td>0</td>\n",
       "      <td>Normal</td>\n",
       "      <td>124</td>\n",
       "      <td>N</td>\n",
       "      <td>1.2</td>\n",
       "      <td>Up</td>\n",
       "      <td>1</td>\n",
       "    </tr>\n",
       "    <tr>\n",
       "      <th>3</th>\n",
       "      <td>65</td>\n",
       "      <td>M</td>\n",
       "      <td>ASY</td>\n",
       "      <td>134</td>\n",
       "      <td>149.0</td>\n",
       "      <td>0</td>\n",
       "      <td>ST</td>\n",
       "      <td>190</td>\n",
       "      <td>N</td>\n",
       "      <td>1.0</td>\n",
       "      <td>Flat</td>\n",
       "      <td>1</td>\n",
       "    </tr>\n",
       "    <tr>\n",
       "      <th>4</th>\n",
       "      <td>57</td>\n",
       "      <td>F</td>\n",
       "      <td>ATA</td>\n",
       "      <td>125</td>\n",
       "      <td>156.0</td>\n",
       "      <td>0</td>\n",
       "      <td>Normal</td>\n",
       "      <td>140</td>\n",
       "      <td>Y</td>\n",
       "      <td>-0.1</td>\n",
       "      <td>Flat</td>\n",
       "      <td>0</td>\n",
       "    </tr>\n",
       "    <tr>\n",
       "      <th>...</th>\n",
       "      <td>...</td>\n",
       "      <td>...</td>\n",
       "      <td>...</td>\n",
       "      <td>...</td>\n",
       "      <td>...</td>\n",
       "      <td>...</td>\n",
       "      <td>...</td>\n",
       "      <td>...</td>\n",
       "      <td>...</td>\n",
       "      <td>...</td>\n",
       "      <td>...</td>\n",
       "      <td>...</td>\n",
       "    </tr>\n",
       "    <tr>\n",
       "      <th>18557</th>\n",
       "      <td>53</td>\n",
       "      <td>M</td>\n",
       "      <td>ASY</td>\n",
       "      <td>161</td>\n",
       "      <td>8.0</td>\n",
       "      <td>0</td>\n",
       "      <td>Normal</td>\n",
       "      <td>100</td>\n",
       "      <td>Y</td>\n",
       "      <td>2.0</td>\n",
       "      <td>Up</td>\n",
       "      <td>0</td>\n",
       "    </tr>\n",
       "    <tr>\n",
       "      <th>18558</th>\n",
       "      <td>56</td>\n",
       "      <td>M</td>\n",
       "      <td>ASY</td>\n",
       "      <td>127</td>\n",
       "      <td>60.0</td>\n",
       "      <td>0</td>\n",
       "      <td>Normal</td>\n",
       "      <td>124</td>\n",
       "      <td>N</td>\n",
       "      <td>-0.1</td>\n",
       "      <td>Flat</td>\n",
       "      <td>0</td>\n",
       "    </tr>\n",
       "    <tr>\n",
       "      <th>18559</th>\n",
       "      <td>55</td>\n",
       "      <td>M</td>\n",
       "      <td>ASY</td>\n",
       "      <td>144</td>\n",
       "      <td>517.0</td>\n",
       "      <td>0</td>\n",
       "      <td>Normal</td>\n",
       "      <td>112</td>\n",
       "      <td>Y</td>\n",
       "      <td>-0.1</td>\n",
       "      <td>Up</td>\n",
       "      <td>1</td>\n",
       "    </tr>\n",
       "    <tr>\n",
       "      <th>18560</th>\n",
       "      <td>60</td>\n",
       "      <td>M</td>\n",
       "      <td>ASY</td>\n",
       "      <td>130</td>\n",
       "      <td>253.0</td>\n",
       "      <td>0</td>\n",
       "      <td>Normal</td>\n",
       "      <td>144</td>\n",
       "      <td>Y</td>\n",
       "      <td>0.1</td>\n",
       "      <td>Up</td>\n",
       "      <td>1</td>\n",
       "    </tr>\n",
       "    <tr>\n",
       "      <th>18561</th>\n",
       "      <td>50</td>\n",
       "      <td>F</td>\n",
       "      <td>NAP</td>\n",
       "      <td>127</td>\n",
       "      <td>225.0</td>\n",
       "      <td>0</td>\n",
       "      <td>LVH</td>\n",
       "      <td>120</td>\n",
       "      <td>N</td>\n",
       "      <td>-1.0</td>\n",
       "      <td>Flat</td>\n",
       "      <td>1</td>\n",
       "    </tr>\n",
       "  </tbody>\n",
       "</table>\n",
       "<p>18562 rows × 12 columns</p>\n",
       "</div>"
      ],
      "text/plain": [
       "       Edad Sexo TipoDolorTorax  PresionArterialReposo  Colesterol  \\\n",
       "0        59    M            ASY                    156        96.0   \n",
       "1        57    M            ASY                    135       413.0   \n",
       "2        58    M            ATA                    130       410.0   \n",
       "3        65    M            ASY                    134       149.0   \n",
       "4        57    F            ATA                    125       156.0   \n",
       "...     ...  ...            ...                    ...         ...   \n",
       "18557    53    M            ASY                    161         8.0   \n",
       "18558    56    M            ASY                    127        60.0   \n",
       "18559    55    M            ASY                    144       517.0   \n",
       "18560    60    M            ASY                    130       253.0   \n",
       "18561    50    F            NAP                    127       225.0   \n",
       "\n",
       "       GlucosaEnAyunas ECGReposo  FreqCardiacaMaxima AnginaDeEsfuerzo  \\\n",
       "0                    0       LVH                 177                Y   \n",
       "1                    0    Normal                 125                Y   \n",
       "2                    0    Normal                 124                N   \n",
       "3                    0        ST                 190                N   \n",
       "4                    0    Normal                 140                Y   \n",
       "...                ...       ...                 ...              ...   \n",
       "18557                0    Normal                 100                Y   \n",
       "18558                0    Normal                 124                N   \n",
       "18559                0    Normal                 112                Y   \n",
       "18560                0    Normal                 144                Y   \n",
       "18561                0       LVH                 120                N   \n",
       "\n",
       "       DescensoST PendienteST  EnfermedadCardiaca  \n",
       "0             1.6        Flat                   1  \n",
       "1            -0.1          Up                   1  \n",
       "2             1.2          Up                   1  \n",
       "3             1.0        Flat                   1  \n",
       "4            -0.1        Flat                   0  \n",
       "...           ...         ...                 ...  \n",
       "18557         2.0          Up                   0  \n",
       "18558        -0.1        Flat                   0  \n",
       "18559        -0.1          Up                   1  \n",
       "18560         0.1          Up                   1  \n",
       "18561        -1.0        Flat                   1  \n",
       "\n",
       "[18562 rows x 12 columns]"
      ]
     },
     "execution_count": 38,
     "metadata": {},
     "output_type": "execute_result"
    }
   ],
   "source": [
    "data"
   ]
  },
  {
   "cell_type": "markdown",
   "metadata": {},
   "source": [
    "Transformar las varibales categoricas nominales a categoricas ordinales"
   ]
  },
  {
   "cell_type": "markdown",
   "metadata": {},
   "source": [
    "Tabla con descripcion de cada variable"
   ]
  },
  {
   "cell_type": "markdown",
   "metadata": {},
   "source": [
    "Separación del conjunto de datos en features y target"
   ]
  },
  {
   "cell_type": "code",
   "execution_count": 39,
   "metadata": {},
   "outputs": [],
   "source": [
    "X = data.select_dtypes(include=['int64', 'float64'])"
   ]
  },
  {
   "cell_type": "code",
   "execution_count": 40,
   "metadata": {},
   "outputs": [],
   "source": [
    "X = X.drop(columns='EnfermedadCardiaca')"
   ]
  },
  {
   "cell_type": "code",
   "execution_count": 41,
   "metadata": {},
   "outputs": [],
   "source": [
    "y = data['EnfermedadCardiaca']"
   ]
  },
  {
   "cell_type": "code",
   "execution_count": 42,
   "metadata": {},
   "outputs": [
    {
     "data": {
      "text/plain": [
       "EnfermedadCardiaca\n",
       "1    0.539759\n",
       "0    0.460241\n",
       "Name: proportion, dtype: float64"
      ]
     },
     "execution_count": 42,
     "metadata": {},
     "output_type": "execute_result"
    }
   ],
   "source": [
    "y.value_counts(normalize=True)"
   ]
  },
  {
   "cell_type": "code",
   "execution_count": 43,
   "metadata": {},
   "outputs": [],
   "source": [
    "X_train, X_test, y_train, y_test = train_test_split(X, y, test_size=0.2, random_state=42)"
   ]
  },
  {
   "cell_type": "code",
   "execution_count": 44,
   "metadata": {},
   "outputs": [],
   "source": [
    "model = RandomForestClassifier()\n",
    "model.fit(X_train, y_train)\n",
    "preds_scaled = model.predict(X_test)\n",
    "acc_scaled = accuracy_score(y_test, preds_scaled)"
   ]
  },
  {
   "cell_type": "code",
   "execution_count": 45,
   "metadata": {},
   "outputs": [
    {
     "data": {
      "text/plain": [
       "0.502289253972529"
      ]
     },
     "execution_count": 45,
     "metadata": {},
     "output_type": "execute_result"
    }
   ],
   "source": [
    "acc_scaled"
   ]
  },
  {
   "cell_type": "code",
   "execution_count": 46,
   "metadata": {},
   "outputs": [
    {
     "data": {
      "image/png": "[encoded data removed]",
      "text/plain": [
       "<Figure size 600x400 with 1 Axes>"
      ]
     },
     "metadata": {},
     "output_type": "display_data"
    }
   ],
   "source": [
    "cm_scaled = confusion_matrix(y_test, preds_scaled)\n",
    "    \n",
    "# print(f\"Confusion Matrix (Scaled Data) for {name}:\")\n",
    "plt.figure(figsize=(6, 4))\n",
    "sns.heatmap(cm_scaled, annot=True, fmt='d', cmap='Blues', cbar=False, \n",
    "            xticklabels=model.classes_, yticklabels=model.classes_)\n",
    "# plt.title(f\"Confusion Matrix for {name} (Scaled Data)\")\n",
    "plt.xlabel('Predicted')\n",
    "plt.ylabel('Actual')\n",
    "plt.show()"
   ]
  },
  {
   "cell_type": "code",
   "execution_count": null,
   "metadata": {},
   "outputs": [],
   "source": []
  },
  {
   "cell_type": "code",
   "execution_count": null,
   "metadata": {},
   "outputs": [],
   "source": [
    "X = data.drop(columns='EnfermedadCardiaca')"
   ]
  },
  {
   "cell_type": "code",
   "execution_count": null,
   "metadata": {},
   "outputs": [],
   "source": [
    "y = data['EnfermedadCardiaca']"
   ]
  },
  {
   "cell_type": "markdown",
   "metadata": {},
   "source": [
    "Transformando las variables utilizando onehotencoder para evitar que el modelo interprete cada variable utilizando diferentes pesos"
   ]
  },
  {
   "cell_type": "code",
   "execution_count": 49,
   "metadata": {},
   "outputs": [],
   "source": [
    "X_scaled = X.copy()"
   ]
  },
  {
   "cell_type": "code",
   "execution_count": 50,
   "metadata": {},
   "outputs": [],
   "source": [
    "categorical_cols = X_scaled.select_dtypes(include=[\"object\"]).columns"
   ]
  },
  {
   "cell_type": "code",
   "execution_count": 51,
   "metadata": {},
   "outputs": [],
   "source": [
    "encoder = OneHotEncoder(handle_unknown='ignore', sparse_output=False)\n",
    "encoded_array = encoder.fit_transform(X_scaled[categorical_cols])"
   ]
  },
  {
   "cell_type": "code",
   "execution_count": 52,
   "metadata": {},
   "outputs": [],
   "source": [
    "encoded_df = pd.DataFrame(encoded_array, columns=encoder.get_feature_names_out(categorical_cols), index=X_scaled.index)"
   ]
  },
  {
   "cell_type": "code",
   "execution_count": 53,
   "metadata": {},
   "outputs": [],
   "source": [
    "X_scaled = pd.concat([X_scaled.drop(columns=categorical_cols), encoded_df], axis=1)"
   ]
  },
  {
   "cell_type": "markdown",
   "metadata": {},
   "source": [
    "Analisis de la escala de cada variable"
   ]
  },
  {
   "cell_type": "code",
   "execution_count": 54,
   "metadata": {},
   "outputs": [
    {
     "data": {
      "text/html": [
       "<div>\n",
       "<style scoped>\n",
       "    .dataframe tbody tr th:only-of-type {\n",
       "        vertical-align: middle;\n",
       "    }\n",
       "\n",
       "    .dataframe tbody tr th {\n",
       "        vertical-align: top;\n",
       "    }\n",
       "\n",
       "    .dataframe thead th {\n",
       "        text-align: right;\n",
       "    }\n",
       "</style>\n",
       "<table border=\"1\" class=\"dataframe\">\n",
       "  <thead>\n",
       "    <tr style=\"text-align: right;\">\n",
       "      <th></th>\n",
       "      <th>Edad</th>\n",
       "      <th>PresionArterialReposo</th>\n",
       "      <th>Colesterol</th>\n",
       "      <th>GlucosaEnAyunas</th>\n",
       "      <th>FreqCardiacaMaxima</th>\n",
       "      <th>DescensoST</th>\n",
       "    </tr>\n",
       "  </thead>\n",
       "  <tbody>\n",
       "    <tr>\n",
       "      <th>0</th>\n",
       "      <td>59</td>\n",
       "      <td>156</td>\n",
       "      <td>96.0</td>\n",
       "      <td>0</td>\n",
       "      <td>177</td>\n",
       "      <td>1.6</td>\n",
       "    </tr>\n",
       "    <tr>\n",
       "      <th>1</th>\n",
       "      <td>57</td>\n",
       "      <td>135</td>\n",
       "      <td>413.0</td>\n",
       "      <td>0</td>\n",
       "      <td>125</td>\n",
       "      <td>-0.1</td>\n",
       "    </tr>\n",
       "    <tr>\n",
       "      <th>2</th>\n",
       "      <td>58</td>\n",
       "      <td>130</td>\n",
       "      <td>410.0</td>\n",
       "      <td>0</td>\n",
       "      <td>124</td>\n",
       "      <td>1.2</td>\n",
       "    </tr>\n",
       "    <tr>\n",
       "      <th>3</th>\n",
       "      <td>65</td>\n",
       "      <td>134</td>\n",
       "      <td>149.0</td>\n",
       "      <td>0</td>\n",
       "      <td>190</td>\n",
       "      <td>1.0</td>\n",
       "    </tr>\n",
       "    <tr>\n",
       "      <th>4</th>\n",
       "      <td>57</td>\n",
       "      <td>125</td>\n",
       "      <td>156.0</td>\n",
       "      <td>0</td>\n",
       "      <td>140</td>\n",
       "      <td>-0.1</td>\n",
       "    </tr>\n",
       "    <tr>\n",
       "      <th>...</th>\n",
       "      <td>...</td>\n",
       "      <td>...</td>\n",
       "      <td>...</td>\n",
       "      <td>...</td>\n",
       "      <td>...</td>\n",
       "      <td>...</td>\n",
       "    </tr>\n",
       "    <tr>\n",
       "      <th>18557</th>\n",
       "      <td>53</td>\n",
       "      <td>161</td>\n",
       "      <td>8.0</td>\n",
       "      <td>0</td>\n",
       "      <td>100</td>\n",
       "      <td>2.0</td>\n",
       "    </tr>\n",
       "    <tr>\n",
       "      <th>18558</th>\n",
       "      <td>56</td>\n",
       "      <td>127</td>\n",
       "      <td>60.0</td>\n",
       "      <td>0</td>\n",
       "      <td>124</td>\n",
       "      <td>-0.1</td>\n",
       "    </tr>\n",
       "    <tr>\n",
       "      <th>18559</th>\n",
       "      <td>55</td>\n",
       "      <td>144</td>\n",
       "      <td>517.0</td>\n",
       "      <td>0</td>\n",
       "      <td>112</td>\n",
       "      <td>-0.1</td>\n",
       "    </tr>\n",
       "    <tr>\n",
       "      <th>18560</th>\n",
       "      <td>60</td>\n",
       "      <td>130</td>\n",
       "      <td>253.0</td>\n",
       "      <td>0</td>\n",
       "      <td>144</td>\n",
       "      <td>0.1</td>\n",
       "    </tr>\n",
       "    <tr>\n",
       "      <th>18561</th>\n",
       "      <td>50</td>\n",
       "      <td>127</td>\n",
       "      <td>225.0</td>\n",
       "      <td>0</td>\n",
       "      <td>120</td>\n",
       "      <td>-1.0</td>\n",
       "    </tr>\n",
       "  </tbody>\n",
       "</table>\n",
       "<p>18562 rows × 6 columns</p>\n",
       "</div>"
      ],
      "text/plain": [
       "       Edad  PresionArterialReposo  Colesterol  GlucosaEnAyunas  \\\n",
       "0        59                    156        96.0                0   \n",
       "1        57                    135       413.0                0   \n",
       "2        58                    130       410.0                0   \n",
       "3        65                    134       149.0                0   \n",
       "4        57                    125       156.0                0   \n",
       "...     ...                    ...         ...              ...   \n",
       "18557    53                    161         8.0                0   \n",
       "18558    56                    127        60.0                0   \n",
       "18559    55                    144       517.0                0   \n",
       "18560    60                    130       253.0                0   \n",
       "18561    50                    127       225.0                0   \n",
       "\n",
       "       FreqCardiacaMaxima  DescensoST  \n",
       "0                     177         1.6  \n",
       "1                     125        -0.1  \n",
       "2                     124         1.2  \n",
       "3                     190         1.0  \n",
       "4                     140        -0.1  \n",
       "...                   ...         ...  \n",
       "18557                 100         2.0  \n",
       "18558                 124        -0.1  \n",
       "18559                 112        -0.1  \n",
       "18560                 144         0.1  \n",
       "18561                 120        -1.0  \n",
       "\n",
       "[18562 rows x 6 columns]"
      ]
     },
     "execution_count": 54,
     "metadata": {},
     "output_type": "execute_result"
    }
   ],
   "source": [
    "X_scaled"
   ]
  },
  {
   "cell_type": "code",
   "execution_count": 55,
   "metadata": {},
   "outputs": [
    {
     "data": {
      "text/html": [
       "<div>\n",
       "<style scoped>\n",
       "    .dataframe tbody tr th:only-of-type {\n",
       "        vertical-align: middle;\n",
       "    }\n",
       "\n",
       "    .dataframe tbody tr th {\n",
       "        vertical-align: top;\n",
       "    }\n",
       "\n",
       "    .dataframe thead th {\n",
       "        text-align: right;\n",
       "    }\n",
       "</style>\n",
       "<table border=\"1\" class=\"dataframe\">\n",
       "  <thead>\n",
       "    <tr style=\"text-align: right;\">\n",
       "      <th></th>\n",
       "      <th>Edad</th>\n",
       "      <th>PresionArterialReposo</th>\n",
       "      <th>Colesterol</th>\n",
       "      <th>GlucosaEnAyunas</th>\n",
       "      <th>FreqCardiacaMaxima</th>\n",
       "      <th>DescensoST</th>\n",
       "    </tr>\n",
       "  </thead>\n",
       "  <tbody>\n",
       "    <tr>\n",
       "      <th>count</th>\n",
       "      <td>18562.000000</td>\n",
       "      <td>18562.000000</td>\n",
       "      <td>18562.000000</td>\n",
       "      <td>18562.000000</td>\n",
       "      <td>18562.000000</td>\n",
       "      <td>18562.000000</td>\n",
       "    </tr>\n",
       "    <tr>\n",
       "      <th>mean</th>\n",
       "      <td>56.207844</td>\n",
       "      <td>132.015354</td>\n",
       "      <td>209.013719</td>\n",
       "      <td>0.043907</td>\n",
       "      <td>136.584204</td>\n",
       "      <td>0.649100</td>\n",
       "    </tr>\n",
       "    <tr>\n",
       "      <th>std</th>\n",
       "      <td>8.793589</td>\n",
       "      <td>18.440124</td>\n",
       "      <td>97.482676</td>\n",
       "      <td>0.204894</td>\n",
       "      <td>25.388117</td>\n",
       "      <td>0.998975</td>\n",
       "    </tr>\n",
       "    <tr>\n",
       "      <th>min</th>\n",
       "      <td>28.000000</td>\n",
       "      <td>59.000000</td>\n",
       "      <td>1.000000</td>\n",
       "      <td>0.000000</td>\n",
       "      <td>60.000000</td>\n",
       "      <td>-1.600000</td>\n",
       "    </tr>\n",
       "    <tr>\n",
       "      <th>25%</th>\n",
       "      <td>50.000000</td>\n",
       "      <td>120.000000</td>\n",
       "      <td>141.000000</td>\n",
       "      <td>0.000000</td>\n",
       "      <td>119.000000</td>\n",
       "      <td>-0.100000</td>\n",
       "    </tr>\n",
       "    <tr>\n",
       "      <th>50%</th>\n",
       "      <td>56.000000</td>\n",
       "      <td>132.000000</td>\n",
       "      <td>209.013719</td>\n",
       "      <td>0.000000</td>\n",
       "      <td>137.000000</td>\n",
       "      <td>0.200000</td>\n",
       "    </tr>\n",
       "    <tr>\n",
       "      <th>75%</th>\n",
       "      <td>62.000000</td>\n",
       "      <td>144.000000</td>\n",
       "      <td>271.000000</td>\n",
       "      <td>0.000000</td>\n",
       "      <td>154.000000</td>\n",
       "      <td>1.300000</td>\n",
       "    </tr>\n",
       "    <tr>\n",
       "      <th>max</th>\n",
       "      <td>77.000000</td>\n",
       "      <td>200.000000</td>\n",
       "      <td>603.000000</td>\n",
       "      <td>1.000000</td>\n",
       "      <td>202.000000</td>\n",
       "      <td>5.700000</td>\n",
       "    </tr>\n",
       "  </tbody>\n",
       "</table>\n",
       "</div>"
      ],
      "text/plain": [
       "               Edad  PresionArterialReposo    Colesterol  GlucosaEnAyunas  \\\n",
       "count  18562.000000           18562.000000  18562.000000     18562.000000   \n",
       "mean      56.207844             132.015354    209.013719         0.043907   \n",
       "std        8.793589              18.440124     97.482676         0.204894   \n",
       "min       28.000000              59.000000      1.000000         0.000000   \n",
       "25%       50.000000             120.000000    141.000000         0.000000   \n",
       "50%       56.000000             132.000000    209.013719         0.000000   \n",
       "75%       62.000000             144.000000    271.000000         0.000000   \n",
       "max       77.000000             200.000000    603.000000         1.000000   \n",
       "\n",
       "       FreqCardiacaMaxima    DescensoST  \n",
       "count        18562.000000  18562.000000  \n",
       "mean           136.584204      0.649100  \n",
       "std             25.388117      0.998975  \n",
       "min             60.000000     -1.600000  \n",
       "25%            119.000000     -0.100000  \n",
       "50%            137.000000      0.200000  \n",
       "75%            154.000000      1.300000  \n",
       "max            202.000000      5.700000  "
      ]
     },
     "execution_count": 55,
     "metadata": {},
     "output_type": "execute_result"
    }
   ],
   "source": [
    "X_scaled.describe()"
   ]
  },
  {
   "cell_type": "markdown",
   "metadata": {},
   "source": [
    "Se nota que los datos no están escalados, lo que puede causar problemas durante los estudos realizados aquí en este conjunto de datos. Utilizaremos el metodo StandardScaler de la libreria Sklearn para transformar nuestros datos."
   ]
  },
  {
   "cell_type": "code",
   "execution_count": 56,
   "metadata": {},
   "outputs": [],
   "source": [
    "numerical_cols = X_scaled.select_dtypes(include=['int64', 'float64']).columns"
   ]
  },
  {
   "cell_type": "code",
   "execution_count": 57,
   "metadata": {},
   "outputs": [],
   "source": [
    "scaler = MinMaxScaler()\n",
    "X_scaled[numerical_cols] = scaler.fit_transform(X_scaled[numerical_cols])"
   ]
  },
  {
   "cell_type": "code",
   "execution_count": 58,
   "metadata": {},
   "outputs": [
    {
     "data": {
      "text/html": [
       "<div>\n",
       "<style scoped>\n",
       "    .dataframe tbody tr th:only-of-type {\n",
       "        vertical-align: middle;\n",
       "    }\n",
       "\n",
       "    .dataframe tbody tr th {\n",
       "        vertical-align: top;\n",
       "    }\n",
       "\n",
       "    .dataframe thead th {\n",
       "        text-align: right;\n",
       "    }\n",
       "</style>\n",
       "<table border=\"1\" class=\"dataframe\">\n",
       "  <thead>\n",
       "    <tr style=\"text-align: right;\">\n",
       "      <th></th>\n",
       "      <th>Edad</th>\n",
       "      <th>PresionArterialReposo</th>\n",
       "      <th>Colesterol</th>\n",
       "      <th>GlucosaEnAyunas</th>\n",
       "      <th>FreqCardiacaMaxima</th>\n",
       "      <th>DescensoST</th>\n",
       "    </tr>\n",
       "  </thead>\n",
       "  <tbody>\n",
       "    <tr>\n",
       "      <th>0</th>\n",
       "      <td>0.632653</td>\n",
       "      <td>0.687943</td>\n",
       "      <td>0.157807</td>\n",
       "      <td>0.0</td>\n",
       "      <td>0.823944</td>\n",
       "      <td>0.438356</td>\n",
       "    </tr>\n",
       "    <tr>\n",
       "      <th>1</th>\n",
       "      <td>0.591837</td>\n",
       "      <td>0.539007</td>\n",
       "      <td>0.684385</td>\n",
       "      <td>0.0</td>\n",
       "      <td>0.457746</td>\n",
       "      <td>0.205479</td>\n",
       "    </tr>\n",
       "    <tr>\n",
       "      <th>2</th>\n",
       "      <td>0.612245</td>\n",
       "      <td>0.503546</td>\n",
       "      <td>0.679402</td>\n",
       "      <td>0.0</td>\n",
       "      <td>0.450704</td>\n",
       "      <td>0.383562</td>\n",
       "    </tr>\n",
       "    <tr>\n",
       "      <th>3</th>\n",
       "      <td>0.755102</td>\n",
       "      <td>0.531915</td>\n",
       "      <td>0.245847</td>\n",
       "      <td>0.0</td>\n",
       "      <td>0.915493</td>\n",
       "      <td>0.356164</td>\n",
       "    </tr>\n",
       "    <tr>\n",
       "      <th>4</th>\n",
       "      <td>0.591837</td>\n",
       "      <td>0.468085</td>\n",
       "      <td>0.257475</td>\n",
       "      <td>0.0</td>\n",
       "      <td>0.563380</td>\n",
       "      <td>0.205479</td>\n",
       "    </tr>\n",
       "    <tr>\n",
       "      <th>...</th>\n",
       "      <td>...</td>\n",
       "      <td>...</td>\n",
       "      <td>...</td>\n",
       "      <td>...</td>\n",
       "      <td>...</td>\n",
       "      <td>...</td>\n",
       "    </tr>\n",
       "    <tr>\n",
       "      <th>18557</th>\n",
       "      <td>0.510204</td>\n",
       "      <td>0.723404</td>\n",
       "      <td>0.011628</td>\n",
       "      <td>0.0</td>\n",
       "      <td>0.281690</td>\n",
       "      <td>0.493151</td>\n",
       "    </tr>\n",
       "    <tr>\n",
       "      <th>18558</th>\n",
       "      <td>0.571429</td>\n",
       "      <td>0.482270</td>\n",
       "      <td>0.098007</td>\n",
       "      <td>0.0</td>\n",
       "      <td>0.450704</td>\n",
       "      <td>0.205479</td>\n",
       "    </tr>\n",
       "    <tr>\n",
       "      <th>18559</th>\n",
       "      <td>0.551020</td>\n",
       "      <td>0.602837</td>\n",
       "      <td>0.857143</td>\n",
       "      <td>0.0</td>\n",
       "      <td>0.366197</td>\n",
       "      <td>0.205479</td>\n",
       "    </tr>\n",
       "    <tr>\n",
       "      <th>18560</th>\n",
       "      <td>0.653061</td>\n",
       "      <td>0.503546</td>\n",
       "      <td>0.418605</td>\n",
       "      <td>0.0</td>\n",
       "      <td>0.591549</td>\n",
       "      <td>0.232877</td>\n",
       "    </tr>\n",
       "    <tr>\n",
       "      <th>18561</th>\n",
       "      <td>0.448980</td>\n",
       "      <td>0.482270</td>\n",
       "      <td>0.372093</td>\n",
       "      <td>0.0</td>\n",
       "      <td>0.422535</td>\n",
       "      <td>0.082192</td>\n",
       "    </tr>\n",
       "  </tbody>\n",
       "</table>\n",
       "<p>18562 rows × 6 columns</p>\n",
       "</div>"
      ],
      "text/plain": [
       "           Edad  PresionArterialReposo  Colesterol  GlucosaEnAyunas  \\\n",
       "0      0.632653               0.687943    0.157807              0.0   \n",
       "1      0.591837               0.539007    0.684385              0.0   \n",
       "2      0.612245               0.503546    0.679402              0.0   \n",
       "3      0.755102               0.531915    0.245847              0.0   \n",
       "4      0.591837               0.468085    0.257475              0.0   \n",
       "...         ...                    ...         ...              ...   \n",
       "18557  0.510204               0.723404    0.011628              0.0   \n",
       "18558  0.571429               0.482270    0.098007              0.0   \n",
       "18559  0.551020               0.602837    0.857143              0.0   \n",
       "18560  0.653061               0.503546    0.418605              0.0   \n",
       "18561  0.448980               0.482270    0.372093              0.0   \n",
       "\n",
       "       FreqCardiacaMaxima  DescensoST  \n",
       "0                0.823944    0.438356  \n",
       "1                0.457746    0.205479  \n",
       "2                0.450704    0.383562  \n",
       "3                0.915493    0.356164  \n",
       "4                0.563380    0.205479  \n",
       "...                   ...         ...  \n",
       "18557            0.281690    0.493151  \n",
       "18558            0.450704    0.205479  \n",
       "18559            0.366197    0.205479  \n",
       "18560            0.591549    0.232877  \n",
       "18561            0.422535    0.082192  \n",
       "\n",
       "[18562 rows x 6 columns]"
      ]
     },
     "execution_count": 58,
     "metadata": {},
     "output_type": "execute_result"
    }
   ],
   "source": [
    "X_scaled"
   ]
  },
  {
   "cell_type": "code",
   "execution_count": 59,
   "metadata": {},
   "outputs": [
    {
     "data": {
      "text/html": [
       "<div>\n",
       "<style scoped>\n",
       "    .dataframe tbody tr th:only-of-type {\n",
       "        vertical-align: middle;\n",
       "    }\n",
       "\n",
       "    .dataframe tbody tr th {\n",
       "        vertical-align: top;\n",
       "    }\n",
       "\n",
       "    .dataframe thead th {\n",
       "        text-align: right;\n",
       "    }\n",
       "</style>\n",
       "<table border=\"1\" class=\"dataframe\">\n",
       "  <thead>\n",
       "    <tr style=\"text-align: right;\">\n",
       "      <th></th>\n",
       "      <th>Edad</th>\n",
       "      <th>PresionArterialReposo</th>\n",
       "      <th>Colesterol</th>\n",
       "      <th>GlucosaEnAyunas</th>\n",
       "      <th>FreqCardiacaMaxima</th>\n",
       "      <th>DescensoST</th>\n",
       "    </tr>\n",
       "  </thead>\n",
       "  <tbody>\n",
       "    <tr>\n",
       "      <th>count</th>\n",
       "      <td>18562.000000</td>\n",
       "      <td>18562.000000</td>\n",
       "      <td>18562.000000</td>\n",
       "      <td>18562.000000</td>\n",
       "      <td>18562.000000</td>\n",
       "      <td>18562.000000</td>\n",
       "    </tr>\n",
       "    <tr>\n",
       "      <th>mean</th>\n",
       "      <td>0.575670</td>\n",
       "      <td>0.517839</td>\n",
       "      <td>0.345538</td>\n",
       "      <td>0.043907</td>\n",
       "      <td>0.539325</td>\n",
       "      <td>0.308096</td>\n",
       "    </tr>\n",
       "    <tr>\n",
       "      <th>std</th>\n",
       "      <td>0.179461</td>\n",
       "      <td>0.130781</td>\n",
       "      <td>0.161931</td>\n",
       "      <td>0.204894</td>\n",
       "      <td>0.178790</td>\n",
       "      <td>0.136846</td>\n",
       "    </tr>\n",
       "    <tr>\n",
       "      <th>min</th>\n",
       "      <td>0.000000</td>\n",
       "      <td>0.000000</td>\n",
       "      <td>0.000000</td>\n",
       "      <td>0.000000</td>\n",
       "      <td>0.000000</td>\n",
       "      <td>0.000000</td>\n",
       "    </tr>\n",
       "    <tr>\n",
       "      <th>25%</th>\n",
       "      <td>0.448980</td>\n",
       "      <td>0.432624</td>\n",
       "      <td>0.232558</td>\n",
       "      <td>0.000000</td>\n",
       "      <td>0.415493</td>\n",
       "      <td>0.205479</td>\n",
       "    </tr>\n",
       "    <tr>\n",
       "      <th>50%</th>\n",
       "      <td>0.571429</td>\n",
       "      <td>0.517730</td>\n",
       "      <td>0.345538</td>\n",
       "      <td>0.000000</td>\n",
       "      <td>0.542254</td>\n",
       "      <td>0.246575</td>\n",
       "    </tr>\n",
       "    <tr>\n",
       "      <th>75%</th>\n",
       "      <td>0.693878</td>\n",
       "      <td>0.602837</td>\n",
       "      <td>0.448505</td>\n",
       "      <td>0.000000</td>\n",
       "      <td>0.661972</td>\n",
       "      <td>0.397260</td>\n",
       "    </tr>\n",
       "    <tr>\n",
       "      <th>max</th>\n",
       "      <td>1.000000</td>\n",
       "      <td>1.000000</td>\n",
       "      <td>1.000000</td>\n",
       "      <td>1.000000</td>\n",
       "      <td>1.000000</td>\n",
       "      <td>1.000000</td>\n",
       "    </tr>\n",
       "  </tbody>\n",
       "</table>\n",
       "</div>"
      ],
      "text/plain": [
       "               Edad  PresionArterialReposo    Colesterol  GlucosaEnAyunas  \\\n",
       "count  18562.000000           18562.000000  18562.000000     18562.000000   \n",
       "mean       0.575670               0.517839      0.345538         0.043907   \n",
       "std        0.179461               0.130781      0.161931         0.204894   \n",
       "min        0.000000               0.000000      0.000000         0.000000   \n",
       "25%        0.448980               0.432624      0.232558         0.000000   \n",
       "50%        0.571429               0.517730      0.345538         0.000000   \n",
       "75%        0.693878               0.602837      0.448505         0.000000   \n",
       "max        1.000000               1.000000      1.000000         1.000000   \n",
       "\n",
       "       FreqCardiacaMaxima    DescensoST  \n",
       "count        18562.000000  18562.000000  \n",
       "mean             0.539325      0.308096  \n",
       "std              0.178790      0.136846  \n",
       "min              0.000000      0.000000  \n",
       "25%              0.415493      0.205479  \n",
       "50%              0.542254      0.246575  \n",
       "75%              0.661972      0.397260  \n",
       "max              1.000000      1.000000  "
      ]
     },
     "execution_count": 59,
     "metadata": {},
     "output_type": "execute_result"
    }
   ],
   "source": [
    "X_scaled.describe()"
   ]
  },
  {
   "cell_type": "markdown",
   "metadata": {},
   "source": [
    "Resumen de preprocesamento\n",
    "\n",
    "* Separacion de los datos en X e y\n",
    "    * X = Conjunto de todas las variables excepto la columna target\n",
    "    * y = columna target, variable que identifica se el paciente tiene problema cardiaco o no.\n",
    "* Tratamiento de la X\n",
    "    * Transformacción de las variables a traves de la libreria OneHotEncoder\n",
    "    * Escalar las variables a traves del metodo StandardScaler"
   ]
  },
  {
   "cell_type": "markdown",
   "metadata": {},
   "source": [
    "Reducción de dimensionalidad utilizando PCA"
   ]
  },
  {
   "cell_type": "code",
   "execution_count": 60,
   "metadata": {},
   "outputs": [],
   "source": [
    "pca = PCA(n_components=.95)"
   ]
  },
  {
   "cell_type": "code",
   "execution_count": 61,
   "metadata": {},
   "outputs": [],
   "source": [
    "X_scaled_pca = pca.fit_transform(X_scaled)"
   ]
  },
  {
   "cell_type": "code",
   "execution_count": 62,
   "metadata": {},
   "outputs": [
    {
     "data": {
      "text/plain": [
       "array([[-0.06337216, -0.13183871,  0.24811913, -0.19495172,  0.10802364,\n",
       "         0.18625877],\n",
       "       [-0.02927314,  0.068084  , -0.04335427,  0.34285961, -0.09820223,\n",
       "         0.008479  ],\n",
       "       [-0.03006402,  0.09017811, -0.03808924,  0.33340214,  0.08254037,\n",
       "        -0.00522652],\n",
       "       ...,\n",
       "       [-0.02018696,  0.09822348, -0.13477623,  0.51751988, -0.10352701,\n",
       "         0.07237853],\n",
       "       [-0.04241638,  0.02695756,  0.09117773,  0.07357988, -0.07074366,\n",
       "        -0.02424073],\n",
       "       [-0.03853886, -0.02271743, -0.16906334,  0.03708218, -0.22123654,\n",
       "        -0.06096675]])"
      ]
     },
     "execution_count": 62,
     "metadata": {},
     "output_type": "execute_result"
    }
   ],
   "source": [
    "X_scaled_pca"
   ]
  },
  {
   "cell_type": "code",
   "execution_count": 63,
   "metadata": {},
   "outputs": [
    {
     "data": {
      "text/plain": [
       "array([0.2499363 , 0.195637  , 0.18570295, 0.15584899, 0.11142003,\n",
       "       0.10145473])"
      ]
     },
     "execution_count": 63,
     "metadata": {},
     "output_type": "execute_result"
    }
   ],
   "source": [
    "pca.explained_variance_ratio_"
   ]
  },
  {
   "cell_type": "code",
   "execution_count": 64,
   "metadata": {},
   "outputs": [
    {
     "data": {
      "text/plain": [
       "array([0.2499363 , 0.4455733 , 0.63127625, 0.78712524, 0.89854527,\n",
       "       1.        ])"
      ]
     },
     "execution_count": 64,
     "metadata": {},
     "output_type": "execute_result"
    }
   ],
   "source": [
    "pca.explained_variance_ratio_.cumsum()"
   ]
  },
  {
   "cell_type": "markdown",
   "metadata": {},
   "source": [
    "* Varianza explicada:\n",
    "    * Las diez columnas selecionadas por el PCA retienen el 95.37% de la información relevante.\n",
    "* Componentes marginales:\n",
    "    * Los otros componentes aportan información mínima que no sumaria para la mejora del modelo.\n"
   ]
  },
  {
   "cell_type": "markdown",
   "metadata": {},
   "source": [
    "Separacion del conjunto de datos entre datos de entrenamiento y prueba"
   ]
  },
  {
   "cell_type": "code",
   "execution_count": 65,
   "metadata": {},
   "outputs": [],
   "source": [
    "X_train, X_test, y_train, y_test = train_test_split(X_scaled, y, test_size=0.2, random_state=42)"
   ]
  },
  {
   "cell_type": "code",
   "execution_count": 66,
   "metadata": {},
   "outputs": [],
   "source": [
    "X_scaled_pca, X_test_pca, _, _ = train_test_split(X_scaled, y, test_size=0.2, random_state=42)"
   ]
  },
  {
   "cell_type": "code",
   "execution_count": 67,
   "metadata": {},
   "outputs": [
    {
     "name": "stdout",
     "output_type": "stream",
     "text": [
      "Training SVM on Scaled Data...\n",
      "Training SVM on Scaled Data with PCA...\n",
      "SVM - Accuracy on Original: 0.5287, Accuracy on Scaled: 0.5287\n",
      "--------------------------------------------------\n",
      "Training Logistic Regression on Scaled Data...\n",
      "Training Logistic Regression on Scaled Data with PCA...\n",
      "Logistic Regression - Accuracy on Original: 0.5265, Accuracy on Scaled: 0.5265\n",
      "--------------------------------------------------\n",
      "Training KNN on Scaled Data...\n",
      "Training KNN on Scaled Data with PCA...\n",
      "KNN - Accuracy on Original: 0.5063, Accuracy on Scaled: 0.5063\n",
      "--------------------------------------------------\n",
      "Training Decision Tree on Scaled Data...\n",
      "Training Decision Tree on Scaled Data with PCA...\n",
      "Decision Tree - Accuracy on Original: 0.5090, Accuracy on Scaled: 0.5155\n",
      "--------------------------------------------------\n",
      "Training Random Forest on Scaled Data...\n",
      "Training Random Forest on Scaled Data with PCA...\n",
      "Random Forest - Accuracy on Original: 0.5053, Accuracy on Scaled: 0.5012\n",
      "--------------------------------------------------\n",
      "Training XGBoost on Scaled Data...\n",
      "Training XGBoost on Scaled Data with PCA...\n",
      "XGBoost - Accuracy on Original: 0.5112, Accuracy on Scaled: 0.5112\n",
      "--------------------------------------------------\n"
     ]
    }
   ],
   "source": [
    "# Define models (default hyperparameters)\n",
    "models = {\n",
    "    \"SVM\": SVC(),\n",
    "    \"Logistic Regression\": LogisticRegression(),\n",
    "    \"KNN\": KNeighborsClassifier(),\n",
    "    \"Decision Tree\": DecisionTreeClassifier(),\n",
    "    \"Random Forest\": RandomForestClassifier(),\n",
    "    \"XGBoost\": XGBClassifier()\n",
    "}\n",
    "\n",
    "# Train and evaluate models on both original and scaled data\n",
    "for name, model in models.items():\n",
    "    \n",
    "    print(f\"Training {name} on Scaled Data...\")\n",
    "    model.fit(X_train, y_train)\n",
    "    preds_scaled = model.predict(X_test)\n",
    "    acc_scaled = accuracy_score(y_test, preds_scaled)\n",
    "\n",
    "    print(f\"Training {name} on Scaled Data with PCA...\")\n",
    "    model.fit(X_scaled_pca, y_train)\n",
    "    preds_scaled = model.predict(X_test_pca)\n",
    "    acc_scaled_pca = accuracy_score(y_test, preds_scaled)\n",
    "    \n",
    "    print(f\"{name} - Accuracy on Original: {acc_scaled_pca:.4f}, Accuracy on Scaled: {acc_scaled:.4f}\")\n",
    "    print(\"-\" * 50)\n"
   ]
  },
  {
   "cell_type": "code",
   "execution_count": 68,
   "metadata": {},
   "outputs": [
    {
     "name": "stdout",
     "output_type": "stream",
     "text": [
      "Training SVM on Scaled Data...\n",
      "Confusion Matrix (Scaled Data) for SVM:\n"
     ]
    },
    {
     "data": {
      "image/png": "[encoded data removed]",
      "text/plain": [
       "<Figure size 600x400 with 1 Axes>"
      ]
     },
     "metadata": {},
     "output_type": "display_data"
    },
    {
     "name": "stdout",
     "output_type": "stream",
     "text": [
      "Classification Report (Scaled Data) for SVM:\n",
      "\n",
      "              precision    recall  f1-score   support\n",
      "\n",
      "           0       0.62      0.01      0.02      1757\n",
      "           1       0.53      0.99      0.69      1956\n",
      "\n",
      "    accuracy                           0.53      3713\n",
      "   macro avg       0.57      0.50      0.35      3713\n",
      "weighted avg       0.57      0.53      0.37      3713\n",
      "\n",
      "--------------------------------------------------\n",
      "Training SVM on Scaled Data with PCA...\n",
      "Confusion Matrix (Scaled Data with PCA) for SVM:\n"
     ]
    },
    {
     "data": {
      "image/png": "[encoded data removed]",
      "text/plain": [
       "<Figure size 600x400 with 1 Axes>"
      ]
     },
     "metadata": {},
     "output_type": "display_data"
    },
    {
     "name": "stdout",
     "output_type": "stream",
     "text": [
      "Classification Report (Scaled Data with PCA) for SVM:\n",
      "\n",
      "              precision    recall  f1-score   support\n",
      "\n",
      "           0       0.62      0.01      0.02      1757\n",
      "           1       0.53      0.99      0.69      1956\n",
      "\n",
      "    accuracy                           0.53      3713\n",
      "   macro avg       0.57      0.50      0.35      3713\n",
      "weighted avg       0.57      0.53      0.37      3713\n",
      "\n",
      "--------------------------------------------------\n",
      "Training Logistic Regression on Scaled Data...\n",
      "Confusion Matrix (Scaled Data) for Logistic Regression:\n"
     ]
    },
    {
     "data": {
      "image/png": "[encoded data removed]",
      "text/plain": [
       "<Figure size 600x400 with 1 Axes>"
      ]
     },
     "metadata": {},
     "output_type": "display_data"
    },
    {
     "name": "stdout",
     "output_type": "stream",
     "text": [
      "Classification Report (Scaled Data) for Logistic Regression:\n",
      "\n",
      "              precision    recall  f1-score   support\n",
      "\n",
      "           0       0.00      0.00      0.00      1757\n",
      "           1       0.53      1.00      0.69      1956\n",
      "\n",
      "    accuracy                           0.53      3713\n",
      "   macro avg       0.26      0.50      0.34      3713\n",
      "weighted avg       0.28      0.53      0.36      3713\n",
      "\n",
      "--------------------------------------------------\n",
      "Training Logistic Regression on Scaled Data with PCA...\n",
      "Confusion Matrix (Scaled Data with PCA) for Logistic Regression:\n"
     ]
    },
    {
     "data": {
      "image/png": "[encoded data removed]",
      "text/plain": [
       "<Figure size 600x400 with 1 Axes>"
      ]
     },
     "metadata": {},
     "output_type": "display_data"
    },
    {
     "name": "stdout",
     "output_type": "stream",
     "text": [
      "Classification Report (Scaled Data with PCA) for Logistic Regression:\n",
      "\n",
      "              precision    recall  f1-score   support\n",
      "\n",
      "           0       0.00      0.00      0.00      1757\n",
      "           1       0.53      1.00      0.69      1956\n",
      "\n",
      "    accuracy                           0.53      3713\n",
      "   macro avg       0.26      0.50      0.34      3713\n",
      "weighted avg       0.28      0.53      0.36      3713\n",
      "\n",
      "--------------------------------------------------\n",
      "Training KNN on Scaled Data...\n",
      "Confusion Matrix (Scaled Data) for KNN:\n"
     ]
    },
    {
     "data": {
      "image/png": "[encoded data removed]",
      "text/plain": [
       "<Figure size 600x400 with 1 Axes>"
      ]
     },
     "metadata": {},
     "output_type": "display_data"
    },
    {
     "name": "stdout",
     "output_type": "stream",
     "text": [
      "Classification Report (Scaled Data) for KNN:\n",
      "\n",
      "              precision    recall  f1-score   support\n",
      "\n",
      "           0       0.47      0.41      0.44      1757\n",
      "           1       0.53      0.59      0.56      1956\n",
      "\n",
      "    accuracy                           0.51      3713\n",
      "   macro avg       0.50      0.50      0.50      3713\n",
      "weighted avg       0.50      0.51      0.50      3713\n",
      "\n",
      "--------------------------------------------------\n",
      "Training KNN on Scaled Data with PCA...\n",
      "Confusion Matrix (Scaled Data with PCA) for KNN:\n"
     ]
    },
    {
     "data": {
      "image/png": "[encoded data removed]",
      "text/plain": [
       "<Figure size 600x400 with 1 Axes>"
      ]
     },
     "metadata": {},
     "output_type": "display_data"
    },
    {
     "name": "stdout",
     "output_type": "stream",
     "text": [
      "Classification Report (Scaled Data with PCA) for KNN:\n",
      "\n",
      "              precision    recall  f1-score   support\n",
      "\n",
      "           0       0.47      0.41      0.44      1757\n",
      "           1       0.53      0.59      0.56      1956\n",
      "\n",
      "    accuracy                           0.51      3713\n",
      "   macro avg       0.50      0.50      0.50      3713\n",
      "weighted avg       0.50      0.51      0.50      3713\n",
      "\n",
      "--------------------------------------------------\n",
      "Training Decision Tree on Scaled Data...\n",
      "Confusion Matrix (Scaled Data) for Decision Tree:\n"
     ]
    },
    {
     "data": {
      "image/png": "[encoded data removed]",
      "text/plain": [
       "<Figure size 600x400 with 1 Axes>"
      ]
     },
     "metadata": {},
     "output_type": "display_data"
    },
    {
     "name": "stdout",
     "output_type": "stream",
     "text": [
      "Classification Report (Scaled Data) for Decision Tree:\n",
      "\n",
      "              precision    recall  f1-score   support\n",
      "\n",
      "           0       0.48      0.46      0.47      1757\n",
      "           1       0.53      0.55      0.54      1956\n",
      "\n",
      "    accuracy                           0.51      3713\n",
      "   macro avg       0.51      0.51      0.51      3713\n",
      "weighted avg       0.51      0.51      0.51      3713\n",
      "\n",
      "--------------------------------------------------\n",
      "Training Decision Tree on Scaled Data with PCA...\n",
      "Confusion Matrix (Scaled Data with PCA) for Decision Tree:\n"
     ]
    },
    {
     "data": {
      "image/png": "[encoded data removed]",
      "text/plain": [
       "<Figure size 600x400 with 1 Axes>"
      ]
     },
     "metadata": {},
     "output_type": "display_data"
    },
    {
     "name": "stdout",
     "output_type": "stream",
     "text": [
      "Classification Report (Scaled Data with PCA) for Decision Tree:\n",
      "\n",
      "              precision    recall  f1-score   support\n",
      "\n",
      "           0       0.48      0.46      0.47      1757\n",
      "           1       0.54      0.56      0.55      1956\n",
      "\n",
      "    accuracy                           0.51      3713\n",
      "   macro avg       0.51      0.51      0.51      3713\n",
      "weighted avg       0.51      0.51      0.51      3713\n",
      "\n",
      "--------------------------------------------------\n",
      "Training Random Forest on Scaled Data...\n",
      "Confusion Matrix (Scaled Data) for Random Forest:\n"
     ]
    },
    {
     "data": {
      "image/png": "[encoded data removed]",
      "text/plain": [
       "<Figure size 600x400 with 1 Axes>"
      ]
     },
     "metadata": {},
     "output_type": "display_data"
    },
    {
     "name": "stdout",
     "output_type": "stream",
     "text": [
      "Classification Report (Scaled Data) for Random Forest:\n",
      "\n",
      "              precision    recall  f1-score   support\n",
      "\n",
      "           0       0.46      0.38      0.42      1757\n",
      "           1       0.52      0.60      0.56      1956\n",
      "\n",
      "    accuracy                           0.50      3713\n",
      "   macro avg       0.49      0.49      0.49      3713\n",
      "weighted avg       0.49      0.50      0.49      3713\n",
      "\n",
      "--------------------------------------------------\n",
      "Training Random Forest on Scaled Data with PCA...\n",
      "Confusion Matrix (Scaled Data with PCA) for Random Forest:\n"
     ]
    },
    {
     "data": {
      "image/png": "[encoded data removed]",
      "text/plain": [
       "<Figure size 600x400 with 1 Axes>"
      ]
     },
     "metadata": {},
     "output_type": "display_data"
    },
    {
     "name": "stdout",
     "output_type": "stream",
     "text": [
      "Classification Report (Scaled Data with PCA) for Random Forest:\n",
      "\n",
      "              precision    recall  f1-score   support\n",
      "\n",
      "           0       0.47      0.37      0.42      1757\n",
      "           1       0.52      0.62      0.57      1956\n",
      "\n",
      "    accuracy                           0.50      3713\n",
      "   macro avg       0.50      0.50      0.49      3713\n",
      "weighted avg       0.50      0.50      0.50      3713\n",
      "\n",
      "--------------------------------------------------\n",
      "Training XGBoost on Scaled Data...\n",
      "Confusion Matrix (Scaled Data) for XGBoost:\n"
     ]
    },
    {
     "data": {
      "image/png": "[encoded data removed]",
      "text/plain": [
       "<Figure size 600x400 with 1 Axes>"
      ]
     },
     "metadata": {},
     "output_type": "display_data"
    },
    {
     "name": "stdout",
     "output_type": "stream",
     "text": [
      "Classification Report (Scaled Data) for XGBoost:\n",
      "\n",
      "              precision    recall  f1-score   support\n",
      "\n",
      "           0       0.48      0.34      0.40      1757\n",
      "           1       0.53      0.66      0.59      1956\n",
      "\n",
      "    accuracy                           0.51      3713\n",
      "   macro avg       0.50      0.50      0.49      3713\n",
      "weighted avg       0.50      0.51      0.50      3713\n",
      "\n",
      "--------------------------------------------------\n",
      "Training XGBoost on Scaled Data with PCA...\n",
      "Confusion Matrix (Scaled Data with PCA) for XGBoost:\n"
     ]
    },
    {
     "data": {
      "image/png": "[encoded data removed]",
      "text/plain": [
       "<Figure size 600x400 with 1 Axes>"
      ]
     },
     "metadata": {},
     "output_type": "display_data"
    },
    {
     "name": "stdout",
     "output_type": "stream",
     "text": [
      "Classification Report (Scaled Data with PCA) for XGBoost:\n",
      "\n",
      "              precision    recall  f1-score   support\n",
      "\n",
      "           0       0.48      0.34      0.40      1757\n",
      "           1       0.53      0.66      0.59      1956\n",
      "\n",
      "    accuracy                           0.51      3713\n",
      "   macro avg       0.50      0.50      0.49      3713\n",
      "weighted avg       0.50      0.51      0.50      3713\n",
      "\n",
      "--------------------------------------------------\n"
     ]
    }
   ],
   "source": [
    "# Train and evaluate models on both original and scaled data\n",
    "for name, model in models.items():\n",
    "    print(f\"Training {name} on Scaled Data...\")\n",
    "\n",
    "    # Train and predict on original scaled data\n",
    "    model.fit(X_train, y_train)\n",
    "    preds_scaled = model.predict(X_test)\n",
    "    acc_scaled = accuracy_score(y_test, preds_scaled)\n",
    "\n",
    "    # Confusion Matrix for scaled data\n",
    "    cm_scaled = confusion_matrix(y_test, preds_scaled)\n",
    "    \n",
    "    print(f\"Confusion Matrix (Scaled Data) for {name}:\")\n",
    "    plt.figure(figsize=(6, 4))\n",
    "    sns.heatmap(cm_scaled, annot=True, fmt='d', cmap='Blues', cbar=False, \n",
    "                xticklabels=model.classes_, yticklabels=model.classes_)\n",
    "    plt.title(f\"Confusion Matrix for {name} (Scaled Data)\")\n",
    "    plt.xlabel('Predicted')\n",
    "    plt.ylabel('Actual')\n",
    "    plt.show()\n",
    "\n",
    "    # Classification report for scaled data\n",
    "    print(f\"Classification Report (Scaled Data) for {name}:\\n\")\n",
    "    print(classification_report(y_test, preds_scaled))\n",
    "    print(\"-\" * 50)\n",
    "\n",
    "    print(f\"Training {name} on Scaled Data with PCA...\")\n",
    "\n",
    "    # Train and predict on PCA scaled data\n",
    "    model.fit(X_scaled_pca, y_train)\n",
    "    preds_scaled_pca = model.predict(X_test_pca)\n",
    "    acc_scaled_pca = accuracy_score(y_test, preds_scaled_pca)\n",
    "\n",
    "    # Confusion Matrix for scaled data with PCA\n",
    "    cm_scaled_pca = confusion_matrix(y_test, preds_scaled_pca)\n",
    "    \n",
    "    print(f\"Confusion Matrix (Scaled Data with PCA) for {name}:\")\n",
    "    plt.figure(figsize=(6, 4))\n",
    "    sns.heatmap(cm_scaled_pca, annot=True, fmt='d', cmap='Blues', cbar=False, \n",
    "                xticklabels=model.classes_, yticklabels=model.classes_)\n",
    "    plt.title(f\"Confusion Matrix for {name} (Scaled Data with PCA)\")\n",
    "    plt.xlabel('Predicted')\n",
    "    plt.ylabel('Actual')\n",
    "    plt.show()\n",
    "\n",
    "    # Classification report for scaled data with PCA\n",
    "    print(f\"Classification Report (Scaled Data with PCA) for {name}:\\n\")\n",
    "    print(classification_report(y_test, preds_scaled_pca))\n",
    "    print(\"-\" * 50)\n"
   ]
  }
 ],
 "metadata": {
  "kernelspec": {
   "display_name": ".venv",
   "language": "python",
   "name": "python3"
  },
  "language_info": {
   "codemirror_mode": {
    "name": "ipython",
    "version": 3
   },
   "file_extension": ".py",
   "mimetype": "text/x-python",
   "name": "python",
   "nbconvert_exporter": "python",
   "pygments_lexer": "ipython3",
   "version": "3.11.9"
  }
 },
 "nbformat": 4,
 "nbformat_minor": 2
}
